{
 "cells": [
  {
   "cell_type": "code",
   "execution_count": 1,
   "metadata": {},
   "outputs": [],
   "source": [
    "%load_ext autoreload\n",
    "%autoreload 2"
   ]
  },
  {
   "cell_type": "code",
   "execution_count": 2,
   "metadata": {},
   "outputs": [
    {
     "name": "stdout",
     "output_type": "stream",
     "text": [
      "Given the polynomial \\( P(x) = x^3 + ax^2 + ax + 1 \\), we need to find the smallest possible value of \\( a \\) such that all roots are real. Let's denote the roots by \\( r, s, t \\). By Vieta's formulas, we know:\n",
      "\\[\n",
      "r + s + t = -a,\n",
      "\\]\n",
      "\\[\n",
      "rs + rt + st = a,\n",
      "\\]\n",
      "\\[\n",
      "rst = -1.\n",
      "\\]\n",
      "\n",
      "Since all roots are real, we can express the polynomial as \\( (x-r)(x-s)(x-t) \\). Expanding this product, we get:\n",
      "\\[\n",
      "(x-r)(x-s)(x-t) = x^3 - (r+s+t)x^2 + (rs+rt+st)x - rst.\n",
      "\\]\n",
      "Comparing coefficients with \\( x^3 + ax^2 + ax + 1 \\), we have:\n",
      "\\[\n",
      "-(r+s+t) = a, \\quad rs+rt+st = a, \\quad -rst = 1.\n",
      "\\]\n",
      "Thus, we can substitute the expressions for \\( r+s+t \\) and \\( rst \\):\n",
      "\\[\n",
      "a = -(r+s+t), \\quad a = rs + rt + st, \\quad rst = -1.\n",
      "\\]\n",
      "\n",
      "We need to find values of \\( r, s, t \\) that satisfy these equations. Let's consider the possibility that \\( r, s, t \\) are all equal. If \\( r = s = t \\), then from \\( rst = -1 \\), we get \\( r^3 = -1 \\), so \\( r = -1 \\). However, this does not work because \\( r+s+t = -3 \\) and \\( rs+rt+st = 3r = -3 \\), which means \\( a = 3 \\), but we need to check if there are other solutions.\n",
      "\n",
      "Instead, let's consider the case where two of the roots are equal and the third is different. Suppose \\( r = s \\neq t \\). Then from \\( rst = -1 \\), we get \\( r^2 t = -1 \\) or \\( t = -\\frac{1}{r^2} \\). From \\( rs + rt + st = a \\), we get \\( 2r^2 + rt = a \\). Substituting \\( t = -\\frac{1}{r^2} \\) into the equation, we get:\n",
      "\\[\n",
      "2r^2 + r \\left( -\\frac{1}{r^2} \\right) = a \\implies 2r^2 - \\frac{1}{r} = a.\n",
      "\\]\n",
      "From \\( -(r+s+t) = a \\), we get \\( -(2r - \\frac{1}{r^2}) = a \\). Thus, we have:\n",
      "\\[\n",
      "a = 2r^2 - \\frac{1}{r} = -2r + \\frac{1}{r^2}.\n",
      "\\]\n",
      "Let \\( f(r) = 2r^2 - \\frac{1}{r} \\). To find the minimum value, we take the derivative and set it to zero:\n",
      "\\[\n",
      "f'(r) = 4r + \\frac{1}{r^2} = 0 \\implies 4r^3 = -1 \\implies r = -\\frac{1}{\\sqrt[3]{4}}.\n",
      "\\]\n",
      "Substituting \\( r = -\\frac{1}{\\sqrt[3]{4}} \\) back into the equation for \\( a \\), we get:\n",
      "\\[\n",
      "a = 2 \\left( -\\frac{1}{\\sqrt[3]{4}} \\right)^2 - \\left( -\\frac{1}{\\sqrt[3]{4}} \\right)^{-1} = 2 \\cdot \\frac{1}{\\sqrt[3]{16}} + \\sqrt[3]{4} = 2 \\cdot \\frac{1}{2^{4/3}} + 2^{2/3} = \\frac{2}{2^{4/3}} + 2^{2/3} = \\frac{2}{2^{4/3}} + 2^{2/3} = \\frac{2}{2^{4/3}} + 2^{2/3} = 1.\n",
      "\\]\n",
      "Thus, the smallest possible value of \\( a \\) is:\n",
      "\\[\n",
      "\\boxed{1}.\n",
      "\\]\n"
     ]
    }
   ],
   "source": [
    "from its_hub.utils import SAL_STEP_BY_STEP_SYSTEM_PROMPT\n",
    "from its_hub.lms import OpenAICompatibleLanguageModel\n",
    "\n",
    "lm = OpenAICompatibleLanguageModel(\n",
    "    endpoint=\"http://localhost:1234/v1\", \n",
    "    api_key=\"NO_API_KEY\", \n",
    "    model_name=\"qwen2-math-1.5b-instruct:2\", \n",
    "    system_prompt=SAL_STEP_BY_STEP_SYSTEM_PROMPT, \n",
    ")\n",
    "prompt = r\"Let $a$ be a positive real number such that all the roots of \\[x^3 + ax^2 + ax + 1 = 0\\]are real. Find the smallest possible value of $a.$\"\n",
    "\n",
    "response = lm.generate(prompt)\n",
    "\n",
    "print(response)"
   ]
  },
  {
   "cell_type": "code",
   "execution_count": 3,
   "metadata": {},
   "outputs": [
    {
     "data": {
      "text/plain": [
       "'1'"
      ]
     },
     "execution_count": 3,
     "metadata": {},
     "output_type": "execute_result"
    }
   ],
   "source": [
    "def extract_boxed(s: str) -> str:\n",
    "    import re\n",
    "    # find all occurrences of \\boxed{...}\n",
    "    boxed_matches = re.findall(r'\\\\boxed\\{([^{}]+(?:\\{[^{}]*\\}[^{}]*)*)\\}', s)\n",
    "    # return the last match if any were found\n",
    "    return boxed_matches[-1] if boxed_matches else \"\"\n",
    "    \n",
    "extract_boxed(response)"
   ]
  },
  {
   "cell_type": "code",
   "execution_count": 4,
   "metadata": {},
   "outputs": [
    {
     "name": "stderr",
     "output_type": "stream",
     "text": [
      "Generating responses: 100%|██████████| 16/16 [01:11<00:00,  4.48s/it]"
     ]
    },
    {
     "name": "stdout",
     "output_type": "stream",
     "text": [
      "To find the smallest possible value of \\(a\\) such that all the roots of the polynomial \\(P(x) = x^3 + ax^2 + ax + 1\\) are real, we start by assuming that the roots of the polynomial are \\(r, s,\\) and \\(t\\). By Vieta's formulas, we know:\n",
      "\n",
      "1. \\(r + s + t = -a\\),\n",
      "2. \\(rs + rt + st = a\\),\n",
      "3. \\(rst = -1\\).\n",
      "\n",
      "Since all the roots are real, we can use the fact that for any cubic polynomial with real coefficients, the sum of the squares of the roots can be expressed in terms of the roots and their sums. Specifically, we have:\n",
      "\n",
      "\\[\n",
      "r^2 + s^2 + t^2 = (r+s+t)^2 - 2(rs + rt + st).\n",
      "\\]\n",
      "\n",
      "Substituting the values from Vieta's formulas, we get:\n",
      "\n",
      "\\[\n",
      "r^2 + s^2 + t^2 = (-a)^2 - 2a = a^2 - 2a.\n",
      "\\]\n",
      "\n",
      "Since \\(rst = -1\\), by the Arithmetic Mean-Geometric Mean Inequality (AM-GM Inequality), we have:\n",
      "\n",
      "\\[\n",
      "\\frac{r^2 + s^2 + t^2}{3} \\geq \\sqrt[3]{r^2s^2t^2} = \\sqrt[3]{1} = 1.\n",
      "\\]\n",
      "\n",
      "This implies:\n",
      "\n",
      "\\[\n",
      "r^2 + s^2 + t^2 \\geq 3.\n",
      "\\]\n",
      "\n",
      "Substituting \\(r^2 + s^2 + t^2 = a^2 - 2a\\) into the inequality, we get:\n",
      "\n",
      "\\[\n",
      "a^2 - 2a \\geq 3.\n",
      "\\]\n",
      "\n",
      "Rearranging this inequality gives us a quadratic equation:\n",
      "\n",
      "\\[\n",
      "a^2 - 2a - 3 \\geq 0.\n",
      "\\]\n",
      "\n",
      "Factoring the quadratic expression, we have:\n",
      "\n",
      "\\[\n",
      "(a-3)(a+1) \\geq 0.\n",
      "\\]\n",
      "\n",
      "The solutions to this inequality are \\(a \\leq -1\\) or \\(a \\geq 3\\). Since \\(a\\) is a positive real number, we discard \\(a \\leq -1\\) and take \\(a \\geq 3\\). Therefore, the smallest possible value of \\(a\\) is:\n",
      "\n",
      "\\[\n",
      "\\boxed{3}.\n",
      "\\]\n",
      "\n",
      "To verify, if \\(a = 3\\), then the polynomial becomes \\(x^3 + 3x^2 + 3x + 1 = (x+1)^3\\), which has a triple root at \\(x = -1\\). This confirms that all roots are real and equal to \\(-1\\). Thus, the smallest possible value of \\(a\\) is indeed \\(\\boxed{3}\\).\n"
     ]
    },
    {
     "name": "stderr",
     "output_type": "stream",
     "text": [
      "\n"
     ]
    }
   ],
   "source": [
    "from its_hub.algorithms import SelfConsistency\n",
    "\n",
    "budget = 16\n",
    "\n",
    "scaling_alg = SelfConsistency(extract_boxed)\n",
    "\n",
    "scaling_result = scaling_alg.infer(\n",
    "    lm, prompt, budget, show_progress=True, return_response_only=False\n",
    ")\n",
    "\n",
    "print(scaling_result.the_one)"
   ]
  },
  {
   "cell_type": "code",
   "execution_count": 5,
   "metadata": {},
   "outputs": [
    {
     "data": {
      "text/plain": [
       "Counter({'3': 14, '2': 2})"
      ]
     },
     "execution_count": 5,
     "metadata": {},
     "output_type": "execute_result"
    }
   ],
   "source": [
    "scaling_result.response_counts"
   ]
  },
  {
   "cell_type": "code",
   "execution_count": null,
   "metadata": {},
   "outputs": [],
   "source": []
  }
 ],
 "metadata": {
  "kernelspec": {
   "display_name": "inference_time_scaling-dev",
   "language": "python",
   "name": "python3"
  },
  "language_info": {
   "codemirror_mode": {
    "name": "ipython",
    "version": 3
   },
   "file_extension": ".py",
   "mimetype": "text/x-python",
   "name": "python",
   "nbconvert_exporter": "python",
   "pygments_lexer": "ipython3",
   "version": "3.11.11"
  }
 },
 "nbformat": 4,
 "nbformat_minor": 2
}
